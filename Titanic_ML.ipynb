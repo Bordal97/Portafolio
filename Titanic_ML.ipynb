{
 "cells": [
  {
   "cell_type": "markdown",
   "metadata": {},
   "source": [
    "### **Introducción**:\n",
    "\n",
    "El hundimiento del Titanic en 1912 sigue siendo una de las tragedias marítimas más estudiadas. En este Jupyter Notebook, analizaremos el conjunto de datos del Titanic para comprender la relación entre la clase social, el género y la tasa de supervivencia.\n",
    "\n",
    "Objetivos\n",
    "\n",
    "-  Exploración y visualización de datos: Examinar las características de los pasajeros y crear visualizaciones para identificar patrones.\n",
    "- Análisis estadístico: Analizar la relación entre la clase social, el género y la supervivencia.\n",
    "- Modelado de Machine Learning: Desarrollar y entrenar modelos para predecir la supervivencia.\n",
    "- Evaluación de modelos: Evaluar el rendimiento de los modelos y analizar los resultados.\n",
    "\n"
   ]
  },
  {
   "cell_type": "markdown",
   "metadata": {},
   "source": [
    "### **1)Preparación de los datos**\n",
    "\n",
    "**Importación de librerias:**\n"
   ]
  },
  {
   "cell_type": "code",
   "execution_count": 433,
   "metadata": {},
   "outputs": [],
   "source": [
    "import pandas as pd \n",
    "import numpy as np \n",
    "import matplotlib.pyplot as plt\n",
    "import seaborn as sns\n",
    "\n",
    "from sklearn.model_selection import train_test_split\n",
    "from sklearn.preprocessing import LabelEncoder, StandardScaler\n",
    "from sklearn.linear_model import LogisticRegression\n",
    "from sklearn.tree import DecisionTreeClassifier\n",
    "from sklearn.cluster import KMeans\n",
    "from sklearn.mixture import GaussianMixture\n",
    "from sklearn.metrics import accuracy_score"
   ]
  },
  {
   "cell_type": "markdown",
   "metadata": {},
   "source": [
    "**Lectura e importación del set de datos**"
   ]
  },
  {
   "cell_type": "code",
   "execution_count": 434,
   "metadata": {},
   "outputs": [],
   "source": [
    "test = pd.read_csv('Data_Titanic/test.csv')\n",
    "train = pd.read_csv('Data_Titanic/train.csv')\n",
    "survided = pd.read_csv('Data_Titanic/gender_submission.csv')"
   ]
  },
  {
   "cell_type": "markdown",
   "metadata": {},
   "source": [
    "**Inspección del dataset:**"
   ]
  },
  {
   "cell_type": "code",
   "execution_count": 435,
   "metadata": {},
   "outputs": [
    {
     "data": {
      "text/html": [
       "<div>\n",
       "<style scoped>\n",
       "    .dataframe tbody tr th:only-of-type {\n",
       "        vertical-align: middle;\n",
       "    }\n",
       "\n",
       "    .dataframe tbody tr th {\n",
       "        vertical-align: top;\n",
       "    }\n",
       "\n",
       "    .dataframe thead th {\n",
       "        text-align: right;\n",
       "    }\n",
       "</style>\n",
       "<table border=\"1\" class=\"dataframe\">\n",
       "  <thead>\n",
       "    <tr style=\"text-align: right;\">\n",
       "      <th></th>\n",
       "      <th>PassengerId</th>\n",
       "      <th>Pclass</th>\n",
       "      <th>Name</th>\n",
       "      <th>Sex</th>\n",
       "      <th>Age</th>\n",
       "      <th>SibSp</th>\n",
       "      <th>Parch</th>\n",
       "      <th>Ticket</th>\n",
       "      <th>Fare</th>\n",
       "      <th>Cabin</th>\n",
       "      <th>Embarked</th>\n",
       "    </tr>\n",
       "  </thead>\n",
       "  <tbody>\n",
       "    <tr>\n",
       "      <th>0</th>\n",
       "      <td>892</td>\n",
       "      <td>3</td>\n",
       "      <td>Kelly, Mr. James</td>\n",
       "      <td>male</td>\n",
       "      <td>34.5</td>\n",
       "      <td>0</td>\n",
       "      <td>0</td>\n",
       "      <td>330911</td>\n",
       "      <td>7.8292</td>\n",
       "      <td>NaN</td>\n",
       "      <td>Q</td>\n",
       "    </tr>\n",
       "    <tr>\n",
       "      <th>1</th>\n",
       "      <td>893</td>\n",
       "      <td>3</td>\n",
       "      <td>Wilkes, Mrs. James (Ellen Needs)</td>\n",
       "      <td>female</td>\n",
       "      <td>47.0</td>\n",
       "      <td>1</td>\n",
       "      <td>0</td>\n",
       "      <td>363272</td>\n",
       "      <td>7.0000</td>\n",
       "      <td>NaN</td>\n",
       "      <td>S</td>\n",
       "    </tr>\n",
       "    <tr>\n",
       "      <th>2</th>\n",
       "      <td>894</td>\n",
       "      <td>2</td>\n",
       "      <td>Myles, Mr. Thomas Francis</td>\n",
       "      <td>male</td>\n",
       "      <td>62.0</td>\n",
       "      <td>0</td>\n",
       "      <td>0</td>\n",
       "      <td>240276</td>\n",
       "      <td>9.6875</td>\n",
       "      <td>NaN</td>\n",
       "      <td>Q</td>\n",
       "    </tr>\n",
       "    <tr>\n",
       "      <th>3</th>\n",
       "      <td>895</td>\n",
       "      <td>3</td>\n",
       "      <td>Wirz, Mr. Albert</td>\n",
       "      <td>male</td>\n",
       "      <td>27.0</td>\n",
       "      <td>0</td>\n",
       "      <td>0</td>\n",
       "      <td>315154</td>\n",
       "      <td>8.6625</td>\n",
       "      <td>NaN</td>\n",
       "      <td>S</td>\n",
       "    </tr>\n",
       "    <tr>\n",
       "      <th>4</th>\n",
       "      <td>896</td>\n",
       "      <td>3</td>\n",
       "      <td>Hirvonen, Mrs. Alexander (Helga E Lindqvist)</td>\n",
       "      <td>female</td>\n",
       "      <td>22.0</td>\n",
       "      <td>1</td>\n",
       "      <td>1</td>\n",
       "      <td>3101298</td>\n",
       "      <td>12.2875</td>\n",
       "      <td>NaN</td>\n",
       "      <td>S</td>\n",
       "    </tr>\n",
       "  </tbody>\n",
       "</table>\n",
       "</div>"
      ],
      "text/plain": [
       "   PassengerId  Pclass                                          Name     Sex  \\\n",
       "0          892       3                              Kelly, Mr. James    male   \n",
       "1          893       3              Wilkes, Mrs. James (Ellen Needs)  female   \n",
       "2          894       2                     Myles, Mr. Thomas Francis    male   \n",
       "3          895       3                              Wirz, Mr. Albert    male   \n",
       "4          896       3  Hirvonen, Mrs. Alexander (Helga E Lindqvist)  female   \n",
       "\n",
       "    Age  SibSp  Parch   Ticket     Fare Cabin Embarked  \n",
       "0  34.5      0      0   330911   7.8292   NaN        Q  \n",
       "1  47.0      1      0   363272   7.0000   NaN        S  \n",
       "2  62.0      0      0   240276   9.6875   NaN        Q  \n",
       "3  27.0      0      0   315154   8.6625   NaN        S  \n",
       "4  22.0      1      1  3101298  12.2875   NaN        S  "
      ]
     },
     "execution_count": 435,
     "metadata": {},
     "output_type": "execute_result"
    }
   ],
   "source": [
    "# Inspección del dataframe Test\n",
    "test.head()"
   ]
  },
  {
   "cell_type": "code",
   "execution_count": 436,
   "metadata": {},
   "outputs": [
    {
     "data": {
      "text/html": [
       "<div>\n",
       "<style scoped>\n",
       "    .dataframe tbody tr th:only-of-type {\n",
       "        vertical-align: middle;\n",
       "    }\n",
       "\n",
       "    .dataframe tbody tr th {\n",
       "        vertical-align: top;\n",
       "    }\n",
       "\n",
       "    .dataframe thead th {\n",
       "        text-align: right;\n",
       "    }\n",
       "</style>\n",
       "<table border=\"1\" class=\"dataframe\">\n",
       "  <thead>\n",
       "    <tr style=\"text-align: right;\">\n",
       "      <th></th>\n",
       "      <th>PassengerId</th>\n",
       "      <th>Survived</th>\n",
       "      <th>Pclass</th>\n",
       "      <th>Name</th>\n",
       "      <th>Sex</th>\n",
       "      <th>Age</th>\n",
       "      <th>SibSp</th>\n",
       "      <th>Parch</th>\n",
       "      <th>Ticket</th>\n",
       "      <th>Fare</th>\n",
       "      <th>Cabin</th>\n",
       "      <th>Embarked</th>\n",
       "    </tr>\n",
       "  </thead>\n",
       "  <tbody>\n",
       "    <tr>\n",
       "      <th>0</th>\n",
       "      <td>1</td>\n",
       "      <td>0</td>\n",
       "      <td>3</td>\n",
       "      <td>Braund, Mr. Owen Harris</td>\n",
       "      <td>male</td>\n",
       "      <td>22.0</td>\n",
       "      <td>1</td>\n",
       "      <td>0</td>\n",
       "      <td>A/5 21171</td>\n",
       "      <td>7.2500</td>\n",
       "      <td>NaN</td>\n",
       "      <td>S</td>\n",
       "    </tr>\n",
       "    <tr>\n",
       "      <th>1</th>\n",
       "      <td>2</td>\n",
       "      <td>1</td>\n",
       "      <td>1</td>\n",
       "      <td>Cumings, Mrs. John Bradley (Florence Briggs Th...</td>\n",
       "      <td>female</td>\n",
       "      <td>38.0</td>\n",
       "      <td>1</td>\n",
       "      <td>0</td>\n",
       "      <td>PC 17599</td>\n",
       "      <td>71.2833</td>\n",
       "      <td>C85</td>\n",
       "      <td>C</td>\n",
       "    </tr>\n",
       "    <tr>\n",
       "      <th>2</th>\n",
       "      <td>3</td>\n",
       "      <td>1</td>\n",
       "      <td>3</td>\n",
       "      <td>Heikkinen, Miss. Laina</td>\n",
       "      <td>female</td>\n",
       "      <td>26.0</td>\n",
       "      <td>0</td>\n",
       "      <td>0</td>\n",
       "      <td>STON/O2. 3101282</td>\n",
       "      <td>7.9250</td>\n",
       "      <td>NaN</td>\n",
       "      <td>S</td>\n",
       "    </tr>\n",
       "    <tr>\n",
       "      <th>3</th>\n",
       "      <td>4</td>\n",
       "      <td>1</td>\n",
       "      <td>1</td>\n",
       "      <td>Futrelle, Mrs. Jacques Heath (Lily May Peel)</td>\n",
       "      <td>female</td>\n",
       "      <td>35.0</td>\n",
       "      <td>1</td>\n",
       "      <td>0</td>\n",
       "      <td>113803</td>\n",
       "      <td>53.1000</td>\n",
       "      <td>C123</td>\n",
       "      <td>S</td>\n",
       "    </tr>\n",
       "    <tr>\n",
       "      <th>4</th>\n",
       "      <td>5</td>\n",
       "      <td>0</td>\n",
       "      <td>3</td>\n",
       "      <td>Allen, Mr. William Henry</td>\n",
       "      <td>male</td>\n",
       "      <td>35.0</td>\n",
       "      <td>0</td>\n",
       "      <td>0</td>\n",
       "      <td>373450</td>\n",
       "      <td>8.0500</td>\n",
       "      <td>NaN</td>\n",
       "      <td>S</td>\n",
       "    </tr>\n",
       "  </tbody>\n",
       "</table>\n",
       "</div>"
      ],
      "text/plain": [
       "   PassengerId  Survived  Pclass  \\\n",
       "0            1         0       3   \n",
       "1            2         1       1   \n",
       "2            3         1       3   \n",
       "3            4         1       1   \n",
       "4            5         0       3   \n",
       "\n",
       "                                                Name     Sex   Age  SibSp  \\\n",
       "0                            Braund, Mr. Owen Harris    male  22.0      1   \n",
       "1  Cumings, Mrs. John Bradley (Florence Briggs Th...  female  38.0      1   \n",
       "2                             Heikkinen, Miss. Laina  female  26.0      0   \n",
       "3       Futrelle, Mrs. Jacques Heath (Lily May Peel)  female  35.0      1   \n",
       "4                           Allen, Mr. William Henry    male  35.0      0   \n",
       "\n",
       "   Parch            Ticket     Fare Cabin Embarked  \n",
       "0      0         A/5 21171   7.2500   NaN        S  \n",
       "1      0          PC 17599  71.2833   C85        C  \n",
       "2      0  STON/O2. 3101282   7.9250   NaN        S  \n",
       "3      0            113803  53.1000  C123        S  \n",
       "4      0            373450   8.0500   NaN        S  "
      ]
     },
     "execution_count": 436,
     "metadata": {},
     "output_type": "execute_result"
    }
   ],
   "source": [
    "# Inspección del dataframe Train\n",
    "train.head()"
   ]
  },
  {
   "cell_type": "code",
   "execution_count": 437,
   "metadata": {},
   "outputs": [
    {
     "data": {
      "text/html": [
       "<div>\n",
       "<style scoped>\n",
       "    .dataframe tbody tr th:only-of-type {\n",
       "        vertical-align: middle;\n",
       "    }\n",
       "\n",
       "    .dataframe tbody tr th {\n",
       "        vertical-align: top;\n",
       "    }\n",
       "\n",
       "    .dataframe thead th {\n",
       "        text-align: right;\n",
       "    }\n",
       "</style>\n",
       "<table border=\"1\" class=\"dataframe\">\n",
       "  <thead>\n",
       "    <tr style=\"text-align: right;\">\n",
       "      <th></th>\n",
       "      <th>PassengerId</th>\n",
       "      <th>Survived</th>\n",
       "    </tr>\n",
       "  </thead>\n",
       "  <tbody>\n",
       "    <tr>\n",
       "      <th>0</th>\n",
       "      <td>892</td>\n",
       "      <td>0</td>\n",
       "    </tr>\n",
       "    <tr>\n",
       "      <th>1</th>\n",
       "      <td>893</td>\n",
       "      <td>1</td>\n",
       "    </tr>\n",
       "    <tr>\n",
       "      <th>2</th>\n",
       "      <td>894</td>\n",
       "      <td>0</td>\n",
       "    </tr>\n",
       "    <tr>\n",
       "      <th>3</th>\n",
       "      <td>895</td>\n",
       "      <td>0</td>\n",
       "    </tr>\n",
       "    <tr>\n",
       "      <th>4</th>\n",
       "      <td>896</td>\n",
       "      <td>1</td>\n",
       "    </tr>\n",
       "  </tbody>\n",
       "</table>\n",
       "</div>"
      ],
      "text/plain": [
       "   PassengerId  Survived\n",
       "0          892         0\n",
       "1          893         1\n",
       "2          894         0\n",
       "3          895         0\n",
       "4          896         1"
      ]
     },
     "execution_count": 437,
     "metadata": {},
     "output_type": "execute_result"
    }
   ],
   "source": [
    "# Inspección del dataframe Survived\n",
    "survided.head()"
   ]
  },
  {
   "cell_type": "markdown",
   "metadata": {},
   "source": [
    "**Data Set Size**:"
   ]
  },
  {
   "cell_type": "code",
   "execution_count": 438,
   "metadata": {},
   "outputs": [
    {
     "name": "stdout",
     "output_type": "stream",
     "text": [
      "Data set / Row, Col \n",
      "Test:     (418, 11)\n",
      "Train:    (891, 12)\n",
      "Survived: (418, 2)\n",
      "\n"
     ]
    }
   ],
   "source": [
    "print(f\"\"\"Data set / Row, Col \n",
    "Test:     {test.shape}\n",
    "Train:    {train.shape}\n",
    "Survived: {survided.shape}\n",
    "\"\"\")"
   ]
  },
  {
   "cell_type": "code",
   "execution_count": 439,
   "metadata": {},
   "outputs": [
    {
     "name": "stdout",
     "output_type": "stream",
     "text": [
      "Cantidad de registros en Test:\n",
      "PassengerId    418\n",
      "Pclass         418\n",
      "Name           418\n",
      "Sex            418\n",
      "Age            332\n",
      "SibSp          418\n",
      "Parch          418\n",
      "Ticket         418\n",
      "Fare           417\n",
      "Cabin           91\n",
      "Embarked       418\n",
      "dtype: int64\n",
      "\n"
     ]
    }
   ],
   "source": [
    "print(f\"\"\"Cantidad de registros en Test:\\n{test.count()}\\n\"\"\")"
   ]
  },
  {
   "cell_type": "code",
   "execution_count": 440,
   "metadata": {},
   "outputs": [
    {
     "name": "stdout",
     "output_type": "stream",
     "text": [
      "Cantidad de registros en Train:\n",
      "PassengerId    891\n",
      "Survived       891\n",
      "Pclass         891\n",
      "Name           891\n",
      "Sex            891\n",
      "Age            714\n",
      "SibSp          891\n",
      "Parch          891\n",
      "Ticket         891\n",
      "Fare           891\n",
      "Cabin          204\n",
      "Embarked       889\n",
      "dtype: int64\n"
     ]
    }
   ],
   "source": [
    "print(f\"\"\"Cantidad de registros en Train:\\n{train.count()}\"\"\")"
   ]
  },
  {
   "cell_type": "code",
   "execution_count": 441,
   "metadata": {},
   "outputs": [
    {
     "name": "stdout",
     "output_type": "stream",
     "text": [
      "Cantidad de registros en Survived:\n",
      "PassengerId    418\n",
      "Survived       418\n",
      "dtype: int64\n",
      "\n"
     ]
    }
   ],
   "source": [
    "print(f\"\"\"Cantidad de registros en Survived:\\n{survided.count()}\\n\"\"\")"
   ]
  },
  {
   "cell_type": "markdown",
   "metadata": {},
   "source": [
    "**Tipo de datos:**"
   ]
  },
  {
   "cell_type": "code",
   "execution_count": 442,
   "metadata": {},
   "outputs": [
    {
     "name": "stdout",
     "output_type": "stream",
     "text": [
      "Tipos de datos en dataframe test:\n"
     ]
    },
    {
     "data": {
      "text/plain": [
       "PassengerId      int64\n",
       "Pclass           int64\n",
       "Name            object\n",
       "Sex             object\n",
       "Age            float64\n",
       "SibSp            int64\n",
       "Parch            int64\n",
       "Ticket          object\n",
       "Fare           float64\n",
       "Cabin           object\n",
       "Embarked        object\n",
       "dtype: object"
      ]
     },
     "execution_count": 442,
     "metadata": {},
     "output_type": "execute_result"
    }
   ],
   "source": [
    "# Test dtypes\n",
    "print(\"Tipos de datos en dataframe test:\")\n",
    "test.dtypes"
   ]
  },
  {
   "cell_type": "code",
   "execution_count": 443,
   "metadata": {},
   "outputs": [
    {
     "name": "stdout",
     "output_type": "stream",
     "text": [
      "Tipos de datos en dataframe train:\n"
     ]
    },
    {
     "data": {
      "text/plain": [
       "PassengerId      int64\n",
       "Survived         int64\n",
       "Pclass           int64\n",
       "Name            object\n",
       "Sex             object\n",
       "Age            float64\n",
       "SibSp            int64\n",
       "Parch            int64\n",
       "Ticket          object\n",
       "Fare           float64\n",
       "Cabin           object\n",
       "Embarked        object\n",
       "dtype: object"
      ]
     },
     "execution_count": 443,
     "metadata": {},
     "output_type": "execute_result"
    }
   ],
   "source": [
    "# Train dtypes\n",
    "print(\"Tipos de datos en dataframe train:\")\n",
    "train.dtypes"
   ]
  },
  {
   "cell_type": "code",
   "execution_count": 444,
   "metadata": {},
   "outputs": [
    {
     "name": "stdout",
     "output_type": "stream",
     "text": [
      "Tipos de datos en dataframe survided:\n"
     ]
    },
    {
     "data": {
      "text/plain": [
       "PassengerId    int64\n",
       "Survived       int64\n",
       "dtype: object"
      ]
     },
     "execution_count": 444,
     "metadata": {},
     "output_type": "execute_result"
    }
   ],
   "source": [
    "# Survived dtypes\n",
    "print(\"Tipos de datos en dataframe survided:\")\n",
    "survided.dtypes"
   ]
  },
  {
   "cell_type": "markdown",
   "metadata": {},
   "source": [
    "**Observación:** \n",
    "La tabla contiene una combinación de variables numéricas y categóricas. \n",
    "- Las variables numéricas incluyen **PassengerId, Age, SibSp, Parch, Fare.**\n",
    "- Las variables categóricas incluyen **Survived, Pclass, Sex, Embarked y Cabin.**    \n",
    "- La variable **Name** es una cadena de texto que contiene información textual sobre el nombre del pasajero. "
   ]
  },
  {
   "cell_type": "markdown",
   "metadata": {},
   "source": [
    "### **2) Valores Nulos**\n"
   ]
  },
  {
   "cell_type": "markdown",
   "metadata": {},
   "source": [
    "#### **Test N/A values:**"
   ]
  },
  {
   "cell_type": "code",
   "execution_count": 445,
   "metadata": {},
   "outputs": [
    {
     "name": "stdout",
     "output_type": "stream",
     "text": [
      "Valores nulos en dataset Test:\n",
      " PassengerId      0\n",
      "Pclass           0\n",
      "Name             0\n",
      "Sex              0\n",
      "Age             86\n",
      "SibSp            0\n",
      "Parch            0\n",
      "Ticket           0\n",
      "Fare             1\n",
      "Cabin          327\n",
      "Embarked         0\n",
      "dtype: int64\n"
     ]
    }
   ],
   "source": [
    "# Test N/A\n",
    "print('Valores nulos en dataset Test:\\n',test.isna().sum())"
   ]
  },
  {
   "cell_type": "markdown",
   "metadata": {},
   "source": [
    "**Observacion**:         \n",
    "- El conjunto de datos de prueba presenta  un total de **86** valores faltantes en la variable Age.  \n",
    "- El conjunto de datos de prueba presenta  un total de **1** valores faltantes en la variable Fare.  \n",
    "- El conjunto de datos de prueba presenta  un total de **327** valores faltantes en la variable Cabin.      \n",
    "\n",
    "Para el conjunto de datos Test:\n",
    "- Reemplazaremos los valores nulos de la columna Age con el valor de su promedio.\n",
    "- Reemplazaremos los valores nulos de la columna Fare con el valor de su promedio.\n",
    "- Reemplazaremos los valores nulos de la columna Cabin con \"N/A\".\n"
   ]
  },
  {
   "cell_type": "code",
   "execution_count": 446,
   "metadata": {},
   "outputs": [
    {
     "name": "stdout",
     "output_type": "stream",
     "text": [
      "Valores nulos en dataset Test:\n",
      " PassengerId    0\n",
      "Pclass         0\n",
      "Name           0\n",
      "Sex            0\n",
      "Age            0\n",
      "SibSp          0\n",
      "Parch          0\n",
      "Ticket         0\n",
      "Fare           0\n",
      "Cabin          0\n",
      "Embarked       0\n",
      "dtype: int64\n"
     ]
    }
   ],
   "source": [
    "# Imputación  de valores Nulos en Columna Age\n",
    "age_test_mean = test['Age'].mean()\n",
    "test['Age'] = test['Age'].fillna(age_test_mean)\n",
    "\n",
    "# Imputación de valores Nulos en Columna Fare\n",
    "fare_test_mean = test['Fare'].mean()\n",
    "test['Fare'] = test['Fare'].fillna(fare_test_mean)\n",
    "\n",
    "# Imputación de valores Nulos en Columna Cabin\n",
    "test['Cabin'] = test['Cabin'].fillna(\"N/A\")\n",
    "\n",
    "# Test N/A\n",
    "print('Valores nulos en dataset Test:\\n',test.isna().sum())"
   ]
  },
  {
   "cell_type": "markdown",
   "metadata": {},
   "source": [
    "#### **Train N/A values:**"
   ]
  },
  {
   "cell_type": "code",
   "execution_count": 447,
   "metadata": {},
   "outputs": [
    {
     "name": "stdout",
     "output_type": "stream",
     "text": [
      "Valores nulos en dataset Train:\n",
      " PassengerId      0\n",
      "Survived         0\n",
      "Pclass           0\n",
      "Name             0\n",
      "Sex              0\n",
      "Age            177\n",
      "SibSp            0\n",
      "Parch            0\n",
      "Ticket           0\n",
      "Fare             0\n",
      "Cabin          687\n",
      "Embarked         2\n",
      "dtype: int64\n"
     ]
    }
   ],
   "source": [
    "# Train N/A\n",
    "print('Valores nulos en dataset Train:\\n',train.isna().sum())"
   ]
  },
  {
   "cell_type": "markdown",
   "metadata": {},
   "source": [
    "**Observacion**:\n",
    "- El conjunto de datos de prueba presenta  un total de **177** valores faltantes en la variable Age.  \n",
    "- El conjunto de datos de prueba presenta  un total de **687** valores faltantes en la variable Cabin. \n",
    "- El conjunto de datos de prueba presenta  un total de **2** valores faltantes en la variable Embarked.   \n",
    "  \n",
    "Para el conjunto de datos Train:  \n",
    "- Reemplazaremos los valores nulos de la columna Age con el valor de su promedio.\n",
    "- Reemplazaremos los valores nulos de la columna Cabin  con \"N/A\". \n",
    "- Reemplazaremos los valores nulos de la columna Cabin  su moda. "
   ]
  },
  {
   "cell_type": "code",
   "execution_count": 448,
   "metadata": {},
   "outputs": [
    {
     "name": "stdout",
     "output_type": "stream",
     "text": [
      "Valores nulos en dataset Train:\n",
      " PassengerId    0\n",
      "Survived       0\n",
      "Pclass         0\n",
      "Name           0\n",
      "Sex            0\n",
      "Age            0\n",
      "SibSp          0\n",
      "Parch          0\n",
      "Ticket         0\n",
      "Fare           0\n",
      "Cabin          0\n",
      "Embarked       0\n",
      "dtype: int64\n"
     ]
    }
   ],
   "source": [
    "# Imputación  de valores Nulos en Columna Age\n",
    "age_train_mean = train['Age'].mean()\n",
    "train['Age'] = train['Age'].fillna(age_train_mean)\n",
    "\n",
    "# Imputación de valores Nulos en Columna Cabin\n",
    "train['Cabin'] = train['Cabin'].fillna(\"N/A\")\n",
    "\n",
    "# Imputación de valores Nulos en Columna Embarked\n",
    "train['Embarked'].fillna(train['Embarked'].mode()[0], inplace=True)\n",
    "\n",
    "# Test N/A\n",
    "print('Valores nulos en dataset Train:\\n',train.isna().sum())"
   ]
  },
  {
   "cell_type": "markdown",
   "metadata": {},
   "source": [
    "#### **Survived N/A values:**"
   ]
  },
  {
   "cell_type": "code",
   "execution_count": 449,
   "metadata": {},
   "outputs": [
    {
     "name": "stdout",
     "output_type": "stream",
     "text": [
      "Valores nulos en dataset Survived:\n",
      " PassengerId    0\n",
      "Survived       0\n",
      "dtype: int64\n"
     ]
    }
   ],
   "source": [
    "# Survived N/A values \n",
    "print('Valores nulos en dataset Survived:\\n',survided.isna().sum())"
   ]
  },
  {
   "cell_type": "markdown",
   "metadata": {},
   "source": [
    "**Observacion**: Para el conjunto de datos Survived:        \n",
    "- No presenta Valores Nulos"
   ]
  },
  {
   "cell_type": "markdown",
   "metadata": {},
   "source": [
    "### **3) Visualización de datos**"
   ]
  },
  {
   "cell_type": "markdown",
   "metadata": {},
   "source": [
    "#### 1.Distribución de la edad de los pasajeros"
   ]
  },
  {
   "cell_type": "code",
   "execution_count": 452,
   "metadata": {},
   "outputs": [
    {
     "data": {
      "image/png": "[encoded data removed]",
      "text/plain": [
       "<Figure size 800x400 with 1 Axes>"
      ]
     },
     "metadata": {},
     "output_type": "display_data"
    }
   ],
   "source": [
    "# Extracción de los datos de clase de pasajero\n",
    "clases_pasajero = train[\"Pclass\"]\n",
    "numero_pasajeros_por_clase = clases_pasajero.value_counts()\n",
    "\n",
    "# Cálculo de los porcentajes\n",
    "porcentajes_pasajeros_por_clase = numero_pasajeros_por_clase / len(train) * 100\n",
    "\n",
    "# Creación del gráfico de sectores\n",
    "plt.figure(figsize=(8,4))\n",
    "plt.pie(porcentajes_pasajeros_por_clase, labels=numero_pasajeros_por_clase.index, autopct=\"%1.1f%%\")\n",
    "plt.title(\"Distribución porcentual de pasajeros por clase\")\n",
    "plt.show()\n",
    "\n"
   ]
  },
  {
   "cell_type": "markdown",
   "metadata": {},
   "source": [
    "Total de pasajeros registrados: 891\n",
    "\n",
    "Distribución por clase:\n",
    "- Primera clase: 216 pasajeros (24,2% del total)\n",
    "- Segunda clase: 184 pasajeros (20,7% del total)\n",
    "- Tercera clase: 491 pasajeros (55,1% del total) (Moda)"
   ]
  },
  {
   "cell_type": "markdown",
   "metadata": {},
   "source": [
    "#### 2. Distribución de pasajeros por clase y género"
   ]
  },
  {
   "cell_type": "code",
   "execution_count": 453,
   "metadata": {},
   "outputs": [
    {
     "data": {
      "text/plain": [
       "<Figure size 800x400 with 0 Axes>"
      ]
     },
     "metadata": {},
     "output_type": "display_data"
    },
    {
     "data": {
      "image/png": "[encoded data removed]",
      "text/plain": [
       "<Figure size 640x480 with 1 Axes>"
      ]
     },
     "metadata": {},
     "output_type": "display_data"
    }
   ],
   "source": [
    "#  Extracción de los datos de clase de pasajero y sexo \n",
    "df_grouped = train.groupby(['Pclass', 'Sex']).size().unstack()\n",
    "\n",
    "# Creación del gráfico de barras \n",
    "plt.figure(figsize=(8,4))\n",
    "df_grouped.plot(kind='bar', stacked=True, color=['mediumorchid', 'steelblue'])\n",
    "plt.xlabel('Clase')\n",
    "plt.ylabel('Conteo de pasajeros')\n",
    "plt.title('Distribución de pasajeros por clase y género')\n",
    "plt.show()"
   ]
  },
  {
   "cell_type": "markdown",
   "metadata": {},
   "source": [
    "**Distribucion por clase y genero:**\n",
    "\n",
    "Primera clase: 216 pasajeros (24,2% del total)  \n",
    "- Mujeres: 94 pasajeros (43,5% de primera clase)  \n",
    "- Hombres: 122 pasajeros (56,5% de primera clase) \n",
    "\n",
    "Segunda clase: 184 pasajeros (20,7% del total)\n",
    "- Mujeres: 76 pasajeros (41,3% de segunda clase)\n",
    "- Hombres: 108 pasajeros (58,7% de segunda clase)\n",
    "\n",
    "Tercera clase: 491 pasajeros (55,1% del total)\n",
    "- Mujeres: 144 pasajeros (29,3% de tercera clase)\n",
    "- Hombres: 347  pasajeros (70,7% de tercera clase)\n",
    "\n",
    "**Análisis por género:**\n",
    "\n",
    "- Mujeres: 314 pasajeros (35,4% del total)\n",
    "- Hombres: 573 pasajeros (64,6% del total)\n",
    "\n",
    "**Conclusiones:**   \n",
    "En general, se observa una desigualdad en la distribución de pasajeros por género, con una mayor proporción de hombres en todas las clases. Sin embargo, la primera clase tiene la mayor proporción de mujeres entre las clases, mientras que la tercera clase tiene la menor proporción. La segunda clase presenta una distribución más equilibrada por género.    "
   ]
  },
  {
   "cell_type": "markdown",
   "metadata": {},
   "source": [
    "#### 3. Tasa de supervivencia"
   ]
  },
  {
   "cell_type": "code",
   "execution_count": 461,
   "metadata": {},
   "outputs": [
    {
     "data": {
      "image/png": "[encoded data removed]",
      "text/plain": [
       "<Figure size 800x400 with 2 Axes>"
      ]
     },
     "metadata": {},
     "output_type": "display_data"
    }
   ],
   "source": [
    "# Cálculo de la tasa de supervivencia por género\n",
    "tasa_supervivencia_genero = train.groupby(\"Sex\")[\"Survived\"].mean() * 100\n",
    "\n",
    "# Cálculo de la tasa de supervivencia por tipo de pasajero\n",
    "tasa_supervivencia_tipo_pasajero = train.groupby(\"Pclass\")[\"Survived\"].mean() * 100\n",
    "\n",
    "# Creación de la figura y los subgráficos (fig, ax)\n",
    "fig, (ax1, ax2) = plt.subplots(1, 2, figsize=(8,4))\n",
    "\n",
    "# Gráfico de barras para supervivencia por género (ax1)\n",
    "ax1.bar(tasa_supervivencia_genero.index, tasa_supervivencia_genero.values, color=[\"mediumorchid\", \"steelblue\"])\n",
    "ax1.set_title(\"Tasa de supervivencia por género\")\n",
    "ax1.set_xlabel(\"Sexo\")\n",
    "ax1.set_ylabel(\"Tasa de supervivencia (%)\")\n",
    "\n",
    "# Gráfico de barras para supervivencia por tipo de pasajero (ax2)\n",
    "ax2.bar(tasa_supervivencia_tipo_pasajero.index, tasa_supervivencia_tipo_pasajero.values, color=[\"darkorange\", \"green\", \"steelblue\"])\n",
    "ax2.set_title(\"Tasa de supervivencia por passenger class\")\n",
    "ax2.set_xlabel(\"Clase\")\n",
    "ax2.set_ylabel(\"Tasa de supervivencia (%)\")\n",
    "\n",
    "# Ajustar el diseño de la figura\n",
    "plt.tight_layout()\n",
    "plt.show()"
   ]
  },
  {
   "cell_type": "markdown",
   "metadata": {},
   "source": [
    "**Análisis del gráfico 1:**\n",
    "\n",
    "El gráfico 1 muestra que la tasa de supervivencia de las mujeres fue significativamente mayor que la de los hombres. De hecho, la tasa de supervivencia de las mujeres fue superior al 70%, mientras que la de los hombres fue solo del 19,2%. Esto significa que las mujeres tenían casi tres a cuatro veces más probabilidades de sobrevivir al hundimiento del Titanic que los hombres."
   ]
  },
  {
   "cell_type": "markdown",
   "metadata": {},
   "source": [
    "**Análisis del gráfico 2:**\n",
    "\n",
    "El gráfico 2 muestra que la tasa de supervivencia de los pasajeros de primera clase fue la más alta, seguida de la de los pasajeros de segunda clase y la de los pasajeros de tercera clase. De hecho, la tasa de supervivencia de los pasajeros de primera clase fue del 62,2%, la de los pasajeros de segunda clase fue del 49,6% y la de los pasajeros de tercera clase fue solo del 24,3%. Esto significa que los pasajeros de primera clase tenían casi tres veces más probabilidades de sobrevivir al hundimiento del Titanic que los pasajeros de tercera clase."
   ]
  },
  {
   "cell_type": "markdown",
   "metadata": {},
   "source": [
    "**Conclusiones**\n",
    "\n",
    "El análisis de la tasa de supervivencia en el Titanic muestra que la tragedia no fue aleatoria. Las mujeres, los niños, los pasajeros de primera clase y las personas que sabían nadar tenían más probabilidades de sobrevivir."
   ]
  },
  {
   "cell_type": "markdown",
   "metadata": {},
   "source": [
    "### **4)Machine Learning:**"
   ]
  },
  {
   "cell_type": "markdown",
   "metadata": {},
   "source": [
    "#### **Preprocesar los datos**"
   ]
  },
  {
   "cell_type": "code",
   "execution_count": 455,
   "metadata": {},
   "outputs": [],
   "source": [
    "# Codificar variables categóricas\n",
    "label_encoder = LabelEncoder()\n",
    "train['Sex'] = label_encoder.fit_transform(train['Sex'])\n",
    "test['Sex'] = label_encoder.transform(test['Sex'])\n",
    "\n",
    "train['Embarked'] = label_encoder.fit_transform(train['Embarked'])\n",
    "test['Embarked'] = label_encoder.transform(test['Embarked'])\n",
    "\n",
    "# Seleccionar características y etiquetas\n",
    "features = ['Pclass', 'Sex', 'Age', 'SibSp', 'Parch', 'Fare', 'Embarked']\n",
    "X = train[features]\n",
    "y = train['Survived']\n",
    "X_test = test[features]\n",
    "\n",
    "# Normalizar los datos\n",
    "scaler = StandardScaler()\n",
    "X = scaler.fit_transform(X)\n",
    "X_test = scaler.transform(X_test)\n",
    "\n",
    "# Dividir el conjunto de entrenamiento para validación\n",
    "X_train, X_val, y_train, y_val = train_test_split(X, y, test_size=0.2, random_state=42)"
   ]
  },
  {
   "cell_type": "markdown",
   "metadata": {},
   "source": [
    "#### **Aprendizaje Supervisado:**"
   ]
  },
  {
   "cell_type": "code",
   "execution_count": 456,
   "metadata": {},
   "outputs": [],
   "source": [
    "# 1. Regresión Logística\n",
    "log_reg = LogisticRegression()\n",
    "log_reg.fit(X_train, y_train)\n",
    "log_reg_pred = log_reg.predict(X_val)\n",
    "log_reg_acc = accuracy_score(y_val, log_reg_pred)\n",
    "\n",
    "# 2. Árbol de Decisión\n",
    "tree_clf = DecisionTreeClassifier()\n",
    "tree_clf.fit(X_train, y_train)\n",
    "tree_clf_pred = tree_clf.predict(X_val)\n",
    "tree_clf_acc = accuracy_score(y_val, tree_clf_pred)\n"
   ]
  },
  {
   "cell_type": "markdown",
   "metadata": {},
   "source": [
    "#### **Aprendizaje No Supervisado:**"
   ]
  },
  {
   "cell_type": "code",
   "execution_count": 457,
   "metadata": {},
   "outputs": [
    {
     "name": "stderr",
     "output_type": "stream",
     "text": [
      "c:\\Users\\dafko\\anaconda3\\Lib\\site-packages\\sklearn\\cluster\\_kmeans.py:870: FutureWarning: The default value of `n_init` will change from 10 to 'auto' in 1.4. Set the value of `n_init` explicitly to suppress the warning\n",
      "  warnings.warn(\n",
      "c:\\Users\\dafko\\anaconda3\\Lib\\site-packages\\sklearn\\cluster\\_kmeans.py:1382: UserWarning: KMeans is known to have a memory leak on Windows with MKL, when there are less chunks than available threads. You can avoid it by setting the environment variable OMP_NUM_THREADS=3.\n",
      "  warnings.warn(\n",
      "c:\\Users\\dafko\\anaconda3\\Lib\\site-packages\\sklearn\\cluster\\_kmeans.py:1382: UserWarning: KMeans is known to have a memory leak on Windows with MKL, when there are less chunks than available threads. You can avoid it by setting the environment variable OMP_NUM_THREADS=3.\n",
      "  warnings.warn(\n"
     ]
    }
   ],
   "source": [
    "# 1. KMeans\n",
    "kmeans = KMeans(n_clusters=2, random_state=42)\n",
    "kmeans.fit(X_train)\n",
    "kmeans_pred = kmeans.predict(X_val)\n",
    "kmeans_acc = accuracy_score(y_val, kmeans_pred)\n",
    "\n",
    "# 2. Gaussian Mixture\n",
    "gmm = GaussianMixture(n_components=2, random_state=42)\n",
    "gmm.fit(X_train)\n",
    "gmm_pred = gmm.predict(X_val)\n",
    "gmm_acc = accuracy_score(y_val, gmm_pred)"
   ]
  },
  {
   "cell_type": "markdown",
   "metadata": {},
   "source": [
    "#### **Precisión de los modelos**"
   ]
  },
  {
   "cell_type": "code",
   "execution_count": 458,
   "metadata": {},
   "outputs": [
    {
     "name": "stdout",
     "output_type": "stream",
     "text": [
      "Resultado de la precisión de los modelos:\n",
      "1. Regresión Logística  0.8101\n",
      "2. Árbol  de Decisión 0.8045\n",
      "3. KMeans 0.6927\n",
      "4. Gaussian Mixture 0.7039\n"
     ]
    }
   ],
   "source": [
    "# Accuracy score  \n",
    "print(f\"\"\"Resultado de la precisión de los modelos:\n",
    "1. Regresión Logística  {log_reg_acc:.4f}\n",
    "2. Árbol  de Decisión {tree_clf_acc:.4f}\n",
    "3. KMeans {kmeans_acc:.4f}\n",
    "4. Gaussian Mixture {gmm_acc:.4f}\"\"\")"
   ]
  },
  {
   "cell_type": "markdown",
   "metadata": {},
   "source": [
    "**Observación**: El modelo de Regresión Logística es el que entrego el mejor resultado con una precisión del **81,01%**. \n",
    "Es por ello que utilizaremos este modelo para generar las predicciones. "
   ]
  },
  {
   "cell_type": "markdown",
   "metadata": {},
   "source": [
    "#### **Modelo Seleccionado**"
   ]
  },
  {
   "cell_type": "code",
   "execution_count": 459,
   "metadata": {},
   "outputs": [
    {
     "name": "stdout",
     "output_type": "stream",
     "text": [
      "Precisión del modelo: 94.74%\n"
     ]
    },
    {
     "data": {
      "text/html": [
       "<div>\n",
       "<style scoped>\n",
       "    .dataframe tbody tr th:only-of-type {\n",
       "        vertical-align: middle;\n",
       "    }\n",
       "\n",
       "    .dataframe tbody tr th {\n",
       "        vertical-align: top;\n",
       "    }\n",
       "\n",
       "    .dataframe thead th {\n",
       "        text-align: right;\n",
       "    }\n",
       "</style>\n",
       "<table border=\"1\" class=\"dataframe\">\n",
       "  <thead>\n",
       "    <tr style=\"text-align: right;\">\n",
       "      <th></th>\n",
       "      <th>PassengerId</th>\n",
       "      <th>Survived</th>\n",
       "    </tr>\n",
       "  </thead>\n",
       "  <tbody>\n",
       "    <tr>\n",
       "      <th>0</th>\n",
       "      <td>892</td>\n",
       "      <td>0</td>\n",
       "    </tr>\n",
       "    <tr>\n",
       "      <th>1</th>\n",
       "      <td>893</td>\n",
       "      <td>0</td>\n",
       "    </tr>\n",
       "    <tr>\n",
       "      <th>2</th>\n",
       "      <td>894</td>\n",
       "      <td>0</td>\n",
       "    </tr>\n",
       "    <tr>\n",
       "      <th>3</th>\n",
       "      <td>895</td>\n",
       "      <td>0</td>\n",
       "    </tr>\n",
       "    <tr>\n",
       "      <th>4</th>\n",
       "      <td>896</td>\n",
       "      <td>1</td>\n",
       "    </tr>\n",
       "    <tr>\n",
       "      <th>5</th>\n",
       "      <td>897</td>\n",
       "      <td>0</td>\n",
       "    </tr>\n",
       "    <tr>\n",
       "      <th>6</th>\n",
       "      <td>898</td>\n",
       "      <td>1</td>\n",
       "    </tr>\n",
       "    <tr>\n",
       "      <th>7</th>\n",
       "      <td>899</td>\n",
       "      <td>0</td>\n",
       "    </tr>\n",
       "    <tr>\n",
       "      <th>8</th>\n",
       "      <td>900</td>\n",
       "      <td>1</td>\n",
       "    </tr>\n",
       "    <tr>\n",
       "      <th>9</th>\n",
       "      <td>901</td>\n",
       "      <td>0</td>\n",
       "    </tr>\n",
       "  </tbody>\n",
       "</table>\n",
       "</div>"
      ],
      "text/plain": [
       "   PassengerId  Survived\n",
       "0          892         0\n",
       "1          893         0\n",
       "2          894         0\n",
       "3          895         0\n",
       "4          896         1\n",
       "5          897         0\n",
       "6          898         1\n",
       "7          899         0\n",
       "8          900         1\n",
       "9          901         0"
      ]
     },
     "execution_count": 459,
     "metadata": {},
     "output_type": "execute_result"
    }
   ],
   "source": [
    "# Entrenar el modelo de Regresión Logística con todos los datos de entrenamiento\n",
    "log_reg.fit(X, y)\n",
    "\n",
    "# Generar predicciones en el conjunto de prueba\n",
    "test_predictions = log_reg.predict(X_test)\n",
    "\n",
    "# Crear un DataFrame con los resultados\n",
    "submission = pd.DataFrame({\n",
    "    'PassengerId': test['PassengerId'],\n",
    "    'Survived': test_predictions\n",
    "})\n",
    "\n",
    "# Comparar las predicciones con las del archivo de género\n",
    "accuracy = accuracy_score(survided['Survived'], test_predictions)\n",
    "print(f\"Precisión del modelo: {accuracy * 100:.2f}%\")\n",
    "\n",
    "# Print las primeras 10 predicciones\n",
    "submission.head(10)"
   ]
  }
 ],
 "metadata": {
  "kernelspec": {
   "display_name": "base",
   "language": "python",
   "name": "python3"
  },
  "language_info": {
   "codemirror_mode": {
    "name": "ipython",
    "version": 3
   },
   "file_extension": ".py",
   "mimetype": "text/x-python",
   "name": "python",
   "nbconvert_exporter": "python",
   "pygments_lexer": "ipython3",
   "version": "3.11.7"
  }
 },
 "nbformat": 4,
 "nbformat_minor": 2
}
